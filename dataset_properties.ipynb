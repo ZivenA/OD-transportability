{
 "cells": [
  {
   "cell_type": "markdown",
   "metadata": {},
   "source": [
    "# Dataset Properties\n",
    "\n",
    "The following cells can be used to compute feature importances, default values, and other general dataset properties."
   ]
  },
  {
   "cell_type": "markdown",
   "metadata": {},
   "source": [
    "Basic setup:"
   ]
  },
  {
   "cell_type": "code",
   "execution_count": 4,
   "metadata": {},
   "outputs": [
    {
     "name": "stdout",
     "output_type": "stream",
     "text": [
      "Loaded data from Datasets/diabetes_binned.csv\n"
     ]
    }
   ],
   "source": [
    "from setup import *\n",
    "from helpers import *\n",
    "\n",
    "df = df_fetch_and_cleanup()\n",
    "\n",
    "y_train = df[label_col].to_numpy()\n",
    "X_train = df.drop(columns=[label_col]).to_numpy()\n",
    "\n",
    "columns = list(df.columns)\n",
    "columns.remove(label_col)\n",
    "\n",
    "print(\"Loaded data from\", data_filepath)"
   ]
  },
  {
   "cell_type": "markdown",
   "metadata": {},
   "source": [
    "Compute the infogain of the individual features:"
   ]
  },
  {
   "cell_type": "code",
   "execution_count": 2,
   "metadata": {},
   "outputs": [
    {
     "name": "stdout",
     "output_type": "stream",
     "text": [
      "sorted importances_gain\n",
      "[('HighBP', 185.56321716308594), ('GenHlth', 45.60859298706055), ('HighChol', 23.22873878479004), ('CholCheck', 15.0233793258667), ('HvyAlcoholConsump', 12.258978843688965), ('Age', 10.940640449523926), ('HeartDiseaseorAttack', 9.211546897888184), ('BMI', 8.456352233886719), ('DiffWalk', 8.234146118164062), ('Sex', 6.14013147354126), ('Stroke', 4.1117353439331055), ('Income', 4.1084370613098145), ('Education', 3.1805970668792725), ('NoDocbcCost', 3.051327705383301), ('Veggies', 3.0505924224853516), ('PhysHlth', 3.0102550983428955), ('Smoker', 2.8902156352996826), ('MentHlth', 2.869657278060913), ('PhysActivity', 2.7924416065216064), ('Fruits', 2.7762556076049805), ('AnyHealthcare', 2.662822961807251)]\n"
     ]
    }
   ],
   "source": [
    "import xgboost as xgb\n",
    "\n",
    "xgb_cl = xgb.XGBClassifier()\n",
    "\n",
    "xgb_cl.fit(X_train, y_train)\n",
    "xgb_cl.get_booster().feature_names = columns\n",
    "\n",
    "importances_gain = xgb_cl.get_booster().get_score(importance_type='gain')\n",
    "\n",
    "sorted_gain_importances = sorted(importances_gain.items(), key=lambda x: x[1], reverse=True)\n",
    "print(\"sorted importances_gain\")\n",
    "print(sorted_gain_importances)"
   ]
  },
  {
   "cell_type": "markdown",
   "metadata": {},
   "source": [
    "Computing mode values (defaults for the simple models). Formatted to be easily copied into the dictionary format in `setup.py`"
   ]
  },
  {
   "cell_type": "code",
   "execution_count": 3,
   "metadata": {},
   "outputs": [
    {
     "name": "stdout",
     "output_type": "stream",
     "text": [
      "'HighBP': 1,\n",
      "'HighChol': 1,\n",
      "'CholCheck': 1,\n",
      "'BMI': 27,\n",
      "'Smoker': 0,\n",
      "'Stroke': 0,\n",
      "'HeartDiseaseorAttack': 0,\n",
      "'PhysActivity': 1,\n",
      "'Fruits': 1,\n",
      "'Veggies': 1,\n",
      "'HvyAlcoholConsump': 0,\n",
      "'AnyHealthcare': 1,\n",
      "'NoDocbcCost': 0,\n",
      "'GenHlth': 3,\n",
      "'MentHlth': 0,\n",
      "'PhysHlth': 0,\n",
      "'DiffWalk': 0,\n",
      "'Sex': 0,\n",
      "'Age': 10,\n",
      "'Education': 6,\n",
      "'Income': 8,\n",
      "'BMI_binned': 1,\n",
      "'MentHlth_binned': 0,\n",
      "'PhysHlth_binned': 0,\n",
      "'Age_binned': 0,\n",
      "'Education_binned': 2,\n",
      "'Income_binned': 2,\n"
     ]
    }
   ],
   "source": [
    "for i in range(len(columns)):\n",
    "    print(\"'\" + columns[i] + \"'\" + \": \" + str(df[columns[i]].mode(dropna=False)[0]) + \",\")"
   ]
  }
 ],
 "metadata": {
  "kernelspec": {
   "display_name": "Python 3",
   "language": "python",
   "name": "python3"
  },
  "language_info": {
   "codemirror_mode": {
    "name": "ipython",
    "version": 3
   },
   "file_extension": ".py",
   "mimetype": "text/x-python",
   "name": "python",
   "nbconvert_exporter": "python",
   "pygments_lexer": "ipython3",
   "version": "3.10.11"
  }
 },
 "nbformat": 4,
 "nbformat_minor": 2
}
