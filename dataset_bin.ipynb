{
 "cells": [
  {
   "cell_type": "markdown",
   "metadata": {},
   "source": [
    "# Dataset Binning Utility\n",
    "Upon defining the `cols_to_bin` and `df` filepath, as well as a new filename, this code can easily bin continuous columns of a dataset into simple categorical values (in a way that seems to be fairly effective for our models).\n"
   ]
  },
  {
   "cell_type": "code",
   "execution_count": 2,
   "metadata": {},
   "outputs": [
    {
     "name": "stdout",
     "output_type": "stream",
     "text": [
      "Saved new dataset\n"
     ]
    }
   ],
   "source": [
    "import pandas as pd\n",
    "\n",
    "df = pd.read_csv('Datasets/diabetes.csv')\n",
    "\n",
    "cols_to_bin = [\"BMI\", \"MentHlth\", \"PhysHlth\", \"Age\", \"Education\", \"Income\"]\n",
    "\n",
    "for col in cols_to_bin:\n",
    "    df[col + '_binned'] = pd.qcut(df[col], q=4, labels=False, duplicates='drop')\n",
    "\n",
    "df.to_csv('Datasets/diabetes_binned.csv', index=False)\n",
    "\n",
    "print(\"Saved new dataset\")"
   ]
  }
 ],
 "metadata": {
  "kernelspec": {
   "display_name": "Python 3",
   "language": "python",
   "name": "python3"
  },
  "language_info": {
   "codemirror_mode": {
    "name": "ipython",
    "version": 3
   },
   "file_extension": ".py",
   "mimetype": "text/x-python",
   "name": "python",
   "nbconvert_exporter": "python",
   "pygments_lexer": "ipython3",
   "version": "3.10.11"
  }
 },
 "nbformat": 4,
 "nbformat_minor": 2
}
